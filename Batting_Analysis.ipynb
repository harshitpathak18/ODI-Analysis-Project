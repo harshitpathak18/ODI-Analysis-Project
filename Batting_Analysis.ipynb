{
 "cells": [
  {
   "cell_type": "markdown",
   "metadata": {},
   "source": [
    "### Importing libraries"
   ]
  },
  {
   "cell_type": "code",
   "execution_count": 84,
   "metadata": {},
   "outputs": [],
   "source": [
    "import pandas as pd\n",
    "import numpy as np\n",
    "import matplotlib.pyplot as plt\n",
    "import seaborn as sns\n",
    "import plotly"
   ]
  },
  {
   "cell_type": "code",
   "execution_count": 85,
   "metadata": {},
   "outputs": [],
   "source": [
    "# read file\n",
    "batting_df=pd.read_csv(\"ODIs_batting.csv\")"
   ]
  },
  {
   "cell_type": "code",
   "execution_count": 86,
   "metadata": {},
   "outputs": [
    {
     "data": {
      "text/html": [
       "<div>\n",
       "<style scoped>\n",
       "    .dataframe tbody tr th:only-of-type {\n",
       "        vertical-align: middle;\n",
       "    }\n",
       "\n",
       "    .dataframe tbody tr th {\n",
       "        vertical-align: top;\n",
       "    }\n",
       "\n",
       "    .dataframe thead th {\n",
       "        text-align: right;\n",
       "    }\n",
       "</style>\n",
       "<table border=\"1\" class=\"dataframe\">\n",
       "  <thead>\n",
       "    <tr style=\"text-align: right;\">\n",
       "      <th></th>\n",
       "      <th>Unnamed: 0</th>\n",
       "      <th>Player</th>\n",
       "      <th>Span</th>\n",
       "      <th>Mat</th>\n",
       "      <th>Inns</th>\n",
       "      <th>NO</th>\n",
       "      <th>Runs</th>\n",
       "      <th>HS</th>\n",
       "      <th>Ave</th>\n",
       "      <th>BF</th>\n",
       "      <th>SR</th>\n",
       "      <th>100</th>\n",
       "      <th>50</th>\n",
       "      <th>0</th>\n",
       "    </tr>\n",
       "  </thead>\n",
       "  <tbody>\n",
       "    <tr>\n",
       "      <th>0</th>\n",
       "      <td>0</td>\n",
       "      <td>SR Tendulkar (INDIA)</td>\n",
       "      <td>1989-2012</td>\n",
       "      <td>463</td>\n",
       "      <td>452</td>\n",
       "      <td>41</td>\n",
       "      <td>18426</td>\n",
       "      <td>200*</td>\n",
       "      <td>44.83</td>\n",
       "      <td>21367</td>\n",
       "      <td>86.23</td>\n",
       "      <td>49</td>\n",
       "      <td>96</td>\n",
       "      <td>20</td>\n",
       "    </tr>\n",
       "    <tr>\n",
       "      <th>1</th>\n",
       "      <td>1</td>\n",
       "      <td>KC Sangakkara (Asia/ICC/SL)</td>\n",
       "      <td>2000-2015</td>\n",
       "      <td>404</td>\n",
       "      <td>380</td>\n",
       "      <td>41</td>\n",
       "      <td>14234</td>\n",
       "      <td>169</td>\n",
       "      <td>41.98</td>\n",
       "      <td>18048</td>\n",
       "      <td>78.86</td>\n",
       "      <td>25</td>\n",
       "      <td>93</td>\n",
       "      <td>15</td>\n",
       "    </tr>\n",
       "    <tr>\n",
       "      <th>2</th>\n",
       "      <td>2</td>\n",
       "      <td>RT Ponting (AUS/ICC)</td>\n",
       "      <td>1995-2012</td>\n",
       "      <td>375</td>\n",
       "      <td>365</td>\n",
       "      <td>39</td>\n",
       "      <td>13704</td>\n",
       "      <td>164</td>\n",
       "      <td>42.03</td>\n",
       "      <td>17046</td>\n",
       "      <td>80.39</td>\n",
       "      <td>30</td>\n",
       "      <td>82</td>\n",
       "      <td>20</td>\n",
       "    </tr>\n",
       "    <tr>\n",
       "      <th>3</th>\n",
       "      <td>3</td>\n",
       "      <td>ST Jayasuriya (Asia/SL)</td>\n",
       "      <td>1989-2011</td>\n",
       "      <td>445</td>\n",
       "      <td>433</td>\n",
       "      <td>18</td>\n",
       "      <td>13430</td>\n",
       "      <td>189</td>\n",
       "      <td>32.36</td>\n",
       "      <td>14725</td>\n",
       "      <td>91.2</td>\n",
       "      <td>28</td>\n",
       "      <td>68</td>\n",
       "      <td>34</td>\n",
       "    </tr>\n",
       "  </tbody>\n",
       "</table>\n",
       "</div>"
      ],
      "text/plain": [
       "   Unnamed: 0                       Player       Span  Mat Inns  NO   Runs  \\\n",
       "0           0         SR Tendulkar (INDIA)  1989-2012  463  452  41  18426   \n",
       "1           1  KC Sangakkara (Asia/ICC/SL)  2000-2015  404  380  41  14234   \n",
       "2           2         RT Ponting (AUS/ICC)  1995-2012  375  365  39  13704   \n",
       "3           3      ST Jayasuriya (Asia/SL)  1989-2011  445  433  18  13430   \n",
       "\n",
       "     HS    Ave     BF     SR 100  50   0  \n",
       "0  200*  44.83  21367  86.23  49  96  20  \n",
       "1   169  41.98  18048  78.86  25  93  15  \n",
       "2   164  42.03  17046  80.39  30  82  20  \n",
       "3   189  32.36  14725   91.2  28  68  34  "
      ]
     },
     "execution_count": 86,
     "metadata": {},
     "output_type": "execute_result"
    }
   ],
   "source": [
    "batting_df.head(4)"
   ]
  },
  {
   "cell_type": "code",
   "execution_count": 87,
   "metadata": {},
   "outputs": [
    {
     "name": "stdout",
     "output_type": "stream",
     "text": [
      "<class 'pandas.core.frame.DataFrame'>\n",
      "RangeIndex: 2500 entries, 0 to 2499\n",
      "Data columns (total 14 columns):\n",
      " #   Column      Non-Null Count  Dtype \n",
      "---  ------      --------------  ----- \n",
      " 0   Unnamed: 0  2500 non-null   int64 \n",
      " 1   Player      2500 non-null   object\n",
      " 2   Span        2500 non-null   object\n",
      " 3   Mat         2500 non-null   int64 \n",
      " 4   Inns        2500 non-null   object\n",
      " 5   NO          2500 non-null   object\n",
      " 6   Runs        2500 non-null   object\n",
      " 7   HS          2500 non-null   object\n",
      " 8   Ave         2500 non-null   object\n",
      " 9   BF          2500 non-null   object\n",
      " 10  SR          2500 non-null   object\n",
      " 11  100         2500 non-null   object\n",
      " 12  50          2500 non-null   object\n",
      " 13  0           2500 non-null   object\n",
      "dtypes: int64(2), object(12)\n",
      "memory usage: 273.6+ KB\n"
     ]
    }
   ],
   "source": [
    "batting_df.info()"
   ]
  },
  {
   "cell_type": "code",
   "execution_count": 88,
   "metadata": {},
   "outputs": [],
   "source": [
    "# drop rows with '-' sign in every columns\n",
    "df=batting_df\n",
    "index = df[(df[\"HS\"] == '-')|(batting_df['Inns']==\"-\")|(batting_df['0']==\"-\")|(batting_df['50']==\"-\")|(batting_df['100']==\"-\")|(batting_df['SR']==\"-\")|(batting_df['SR']==\"-\")| (batting_df['BF']==\"-\") | ( batting_df['NO']==\"-\") | (batting_df['Runs']==\"-\") | (batting_df['Ave']==\"-\")].index\n",
    "batting_df.drop(index,inplace=True)"
   ]
  },
  {
   "cell_type": "code",
   "execution_count": 89,
   "metadata": {},
   "outputs": [],
   "source": [
    "# Remove * from highest score\n",
    "batting_df['HS']=batting_df['HS'].str.replace(\"*\",\"\")"
   ]
  },
  {
   "cell_type": "code",
   "execution_count": 90,
   "metadata": {},
   "outputs": [],
   "source": [
    "# Convert object into numerical data\n",
    "batting_df['Mat']=batting_df['Mat'].astype('int')\n",
    "batting_df['Inns']=batting_df['Inns'].astype('int')\n",
    "batting_df['NO']=batting_df['NO'].astype('int')\n",
    "batting_df['Runs']=batting_df['Runs'].astype('int')\n",
    "batting_df['HS']=batting_df['HS'].astype('int')\n",
    "batting_df['Ave']=batting_df['Ave'].astype(\"float\")\n",
    "batting_df['BF']=batting_df['BF'].astype('int')\n",
    "batting_df['SR']=batting_df['SR'].astype('float')\n",
    "batting_df['100']=batting_df['100'].astype('int')\n",
    "batting_df['50']=batting_df['50'].astype('int')\n",
    "batting_df['0']=batting_df['0'].astype('int')"
   ]
  },
  {
   "cell_type": "code",
   "execution_count": 91,
   "metadata": {},
   "outputs": [
    {
     "name": "stdout",
     "output_type": "stream",
     "text": [
      "<class 'pandas.core.frame.DataFrame'>\n",
      "Int64Index: 2369 entries, 0 to 2489\n",
      "Data columns (total 14 columns):\n",
      " #   Column      Non-Null Count  Dtype  \n",
      "---  ------      --------------  -----  \n",
      " 0   Unnamed: 0  2369 non-null   int64  \n",
      " 1   Player      2369 non-null   object \n",
      " 2   Span        2369 non-null   object \n",
      " 3   Mat         2369 non-null   int32  \n",
      " 4   Inns        2369 non-null   int32  \n",
      " 5   NO          2369 non-null   int32  \n",
      " 6   Runs        2369 non-null   int32  \n",
      " 7   HS          2369 non-null   int32  \n",
      " 8   Ave         2369 non-null   float64\n",
      " 9   BF          2369 non-null   int32  \n",
      " 10  SR          2369 non-null   float64\n",
      " 11  100         2369 non-null   int32  \n",
      " 12  50          2369 non-null   int32  \n",
      " 13  0           2369 non-null   int32  \n",
      "dtypes: float64(2), int32(9), int64(1), object(2)\n",
      "memory usage: 194.3+ KB\n"
     ]
    }
   ],
   "source": [
    "batting_df.info()"
   ]
  },
  {
   "cell_type": "code",
   "execution_count": 92,
   "metadata": {},
   "outputs": [
    {
     "data": {
      "text/plain": [
       "2019-2019    94\n",
       "2018-2019    37\n",
       "2017-2019    35\n",
       "2016-2019    31\n",
       "2003-2003    31\n",
       "             ..\n",
       "1984-1992     1\n",
       "1983-1992     1\n",
       "1976-1986     1\n",
       "1992-2006     1\n",
       "2002-2017     1\n",
       "Name: Span, Length: 565, dtype: int64"
      ]
     },
     "execution_count": 92,
     "metadata": {},
     "output_type": "execute_result"
    }
   ],
   "source": [
    "batting_df[\"Span\"].value_counts()"
   ]
  },
  {
   "cell_type": "code",
   "execution_count": 93,
   "metadata": {},
   "outputs": [],
   "source": [
    "batting_df.drop(labels=['Unnamed: 0'],axis=1,inplace=True)"
   ]
  },
  {
   "cell_type": "code",
   "execution_count": 94,
   "metadata": {},
   "outputs": [
    {
     "data": {
      "text/plain": [
       "2369"
      ]
     },
     "execution_count": 94,
     "metadata": {},
     "output_type": "execute_result"
    }
   ],
   "source": [
    "len(batting_df)"
   ]
  },
  {
   "cell_type": "code",
   "execution_count": 95,
   "metadata": {},
   "outputs": [],
   "source": [
    "# Adding nation,name for players to dataset\n",
    "country=[]\n",
    "name=[]\n",
    "for i in list(batting_df[\"Player\"]):\n",
    "    x=i.split(\"(\")\n",
    "    country.append(x[1][:-1])\n",
    "    name.append(x[0])\n",
    "\n",
    "c=pd.DataFrame()\n",
    "c[\"nation\"]=country\n",
    "\n",
    "c['nation']=c['nation'].str.replace(\"Asia\",\"\")\n",
    "c['nation']=c['nation'].str.replace(\"/\",\"\")\n",
    "c['nation']=c['nation'].str.replace(\"ICC\",\"\")\n",
    "\n",
    "# adding nation column to dataset\n",
    "batting_df['Nation']=c['nation']\n",
    "batting_df[\"Player\"]=name"
   ]
  },
  {
   "cell_type": "code",
   "execution_count": 96,
   "metadata": {},
   "outputs": [
    {
     "data": {
      "text/plain": [
       "array(['INDIA', 'SL', 'AUS', 'PAK', 'AfrSA', 'WI', 'NZ', 'SA', 'ENGIRE',\n",
       "       'BDESH', 'ZIM', 'ENG', 'AfrZIM', 'IRE', 'AfrKENYA', 'AUSSA', 'AFG',\n",
       "       'SCOT', 'KENYA', 'CAN', 'NL', 'AUSNZ', 'UAE', 'ENGPNG', 'HKG',\n",
       "       'BMUDA', 'PNG', 'USAWI', 'CANWI', 'USA', 'ENGSCOT', 'NAM', 'NEPAL',\n",
       "       'OMAN', '3)', 'HKGNZ', 'NLSA', 'EAf', 'SAUSA', '1)', nan],\n",
       "      dtype=object)"
      ]
     },
     "execution_count": 96,
     "metadata": {},
     "output_type": "execute_result"
    }
   ],
   "source": [
    "batting_df['Nation'].unique()"
   ]
  },
  {
   "cell_type": "code",
   "execution_count": 97,
   "metadata": {},
   "outputs": [],
   "source": [
    "# drop null columns\n",
    "batting_df.dropna(axis=0,inplace=True)\n",
    "ind=batting_df[(batting_df['Nation']==\"3)\" )|(batting_df['Nation']==\"1)\" )].index\n",
    "batting_df.drop(ind,inplace=True)"
   ]
  },
  {
   "cell_type": "code",
   "execution_count": 98,
   "metadata": {},
   "outputs": [
    {
     "data": {
      "text/html": [
       "<div>\n",
       "<style scoped>\n",
       "    .dataframe tbody tr th:only-of-type {\n",
       "        vertical-align: middle;\n",
       "    }\n",
       "\n",
       "    .dataframe tbody tr th {\n",
       "        vertical-align: top;\n",
       "    }\n",
       "\n",
       "    .dataframe thead th {\n",
       "        text-align: right;\n",
       "    }\n",
       "</style>\n",
       "<table border=\"1\" class=\"dataframe\">\n",
       "  <thead>\n",
       "    <tr style=\"text-align: right;\">\n",
       "      <th></th>\n",
       "      <th>Player</th>\n",
       "      <th>Span</th>\n",
       "      <th>Mat</th>\n",
       "      <th>Inns</th>\n",
       "      <th>NO</th>\n",
       "      <th>Runs</th>\n",
       "      <th>HS</th>\n",
       "      <th>Ave</th>\n",
       "      <th>BF</th>\n",
       "      <th>SR</th>\n",
       "      <th>100</th>\n",
       "      <th>50</th>\n",
       "      <th>0</th>\n",
       "      <th>Nation</th>\n",
       "    </tr>\n",
       "  </thead>\n",
       "  <tbody>\n",
       "    <tr>\n",
       "      <th>0</th>\n",
       "      <td>SR Tendulkar</td>\n",
       "      <td>1989-2012</td>\n",
       "      <td>463</td>\n",
       "      <td>452</td>\n",
       "      <td>41</td>\n",
       "      <td>18426</td>\n",
       "      <td>200</td>\n",
       "      <td>44.83</td>\n",
       "      <td>21367</td>\n",
       "      <td>86.23</td>\n",
       "      <td>49</td>\n",
       "      <td>96</td>\n",
       "      <td>20</td>\n",
       "      <td>INDIA</td>\n",
       "    </tr>\n",
       "    <tr>\n",
       "      <th>1</th>\n",
       "      <td>KC Sangakkara</td>\n",
       "      <td>2000-2015</td>\n",
       "      <td>404</td>\n",
       "      <td>380</td>\n",
       "      <td>41</td>\n",
       "      <td>14234</td>\n",
       "      <td>169</td>\n",
       "      <td>41.98</td>\n",
       "      <td>18048</td>\n",
       "      <td>78.86</td>\n",
       "      <td>25</td>\n",
       "      <td>93</td>\n",
       "      <td>15</td>\n",
       "      <td>SL</td>\n",
       "    </tr>\n",
       "    <tr>\n",
       "      <th>2</th>\n",
       "      <td>RT Ponting</td>\n",
       "      <td>1995-2012</td>\n",
       "      <td>375</td>\n",
       "      <td>365</td>\n",
       "      <td>39</td>\n",
       "      <td>13704</td>\n",
       "      <td>164</td>\n",
       "      <td>42.03</td>\n",
       "      <td>17046</td>\n",
       "      <td>80.39</td>\n",
       "      <td>30</td>\n",
       "      <td>82</td>\n",
       "      <td>20</td>\n",
       "      <td>AUS</td>\n",
       "    </tr>\n",
       "    <tr>\n",
       "      <th>3</th>\n",
       "      <td>ST Jayasuriya</td>\n",
       "      <td>1989-2011</td>\n",
       "      <td>445</td>\n",
       "      <td>433</td>\n",
       "      <td>18</td>\n",
       "      <td>13430</td>\n",
       "      <td>189</td>\n",
       "      <td>32.36</td>\n",
       "      <td>14725</td>\n",
       "      <td>91.20</td>\n",
       "      <td>28</td>\n",
       "      <td>68</td>\n",
       "      <td>34</td>\n",
       "      <td>SL</td>\n",
       "    </tr>\n",
       "    <tr>\n",
       "      <th>4</th>\n",
       "      <td>DPMD Jayawardene</td>\n",
       "      <td>1998-2015</td>\n",
       "      <td>448</td>\n",
       "      <td>418</td>\n",
       "      <td>39</td>\n",
       "      <td>12650</td>\n",
       "      <td>144</td>\n",
       "      <td>33.37</td>\n",
       "      <td>16020</td>\n",
       "      <td>78.96</td>\n",
       "      <td>19</td>\n",
       "      <td>77</td>\n",
       "      <td>28</td>\n",
       "      <td>SL</td>\n",
       "    </tr>\n",
       "    <tr>\n",
       "      <th>...</th>\n",
       "      <td>...</td>\n",
       "      <td>...</td>\n",
       "      <td>...</td>\n",
       "      <td>...</td>\n",
       "      <td>...</td>\n",
       "      <td>...</td>\n",
       "      <td>...</td>\n",
       "      <td>...</td>\n",
       "      <td>...</td>\n",
       "      <td>...</td>\n",
       "      <td>...</td>\n",
       "      <td>...</td>\n",
       "      <td>...</td>\n",
       "      <td>...</td>\n",
       "    </tr>\n",
       "    <tr>\n",
       "      <th>2362</th>\n",
       "      <td>R Pathan</td>\n",
       "      <td>2013-2013</td>\n",
       "      <td>1</td>\n",
       "      <td>1</td>\n",
       "      <td>0</td>\n",
       "      <td>2</td>\n",
       "      <td>2</td>\n",
       "      <td>2.00</td>\n",
       "      <td>9</td>\n",
       "      <td>22.22</td>\n",
       "      <td>0</td>\n",
       "      <td>0</td>\n",
       "      <td>0</td>\n",
       "      <td>SA</td>\n",
       "    </tr>\n",
       "    <tr>\n",
       "      <th>2364</th>\n",
       "      <td>ACL Richards</td>\n",
       "      <td>2007-2007</td>\n",
       "      <td>1</td>\n",
       "      <td>1</td>\n",
       "      <td>0</td>\n",
       "      <td>2</td>\n",
       "      <td>2</td>\n",
       "      <td>2.00</td>\n",
       "      <td>2</td>\n",
       "      <td>100.00</td>\n",
       "      <td>0</td>\n",
       "      <td>0</td>\n",
       "      <td>0</td>\n",
       "      <td>WI</td>\n",
       "    </tr>\n",
       "    <tr>\n",
       "      <th>2366</th>\n",
       "      <td>JNK Shannon</td>\n",
       "      <td>2013-2013</td>\n",
       "      <td>1</td>\n",
       "      <td>1</td>\n",
       "      <td>0</td>\n",
       "      <td>2</td>\n",
       "      <td>2</td>\n",
       "      <td>2.00</td>\n",
       "      <td>8</td>\n",
       "      <td>25.00</td>\n",
       "      <td>0</td>\n",
       "      <td>0</td>\n",
       "      <td>0</td>\n",
       "      <td>NAM</td>\n",
       "    </tr>\n",
       "    <tr>\n",
       "      <th>2367</th>\n",
       "      <td>GJ Thompson</td>\n",
       "      <td>2008-2008</td>\n",
       "      <td>3</td>\n",
       "      <td>2</td>\n",
       "      <td>0</td>\n",
       "      <td>2</td>\n",
       "      <td>2</td>\n",
       "      <td>1.00</td>\n",
       "      <td>21</td>\n",
       "      <td>9.52</td>\n",
       "      <td>0</td>\n",
       "      <td>0</td>\n",
       "      <td>1</td>\n",
       "      <td>SA</td>\n",
       "    </tr>\n",
       "    <tr>\n",
       "      <th>2368</th>\n",
       "      <td>PIC Thompson</td>\n",
       "      <td>1997-1997</td>\n",
       "      <td>2</td>\n",
       "      <td>1</td>\n",
       "      <td>0</td>\n",
       "      <td>2</td>\n",
       "      <td>2</td>\n",
       "      <td>2.00</td>\n",
       "      <td>7</td>\n",
       "      <td>28.57</td>\n",
       "      <td>0</td>\n",
       "      <td>0</td>\n",
       "      <td>0</td>\n",
       "      <td>BDESH</td>\n",
       "    </tr>\n",
       "  </tbody>\n",
       "</table>\n",
       "<p>2282 rows × 14 columns</p>\n",
       "</div>"
      ],
      "text/plain": [
       "                 Player       Span  Mat  Inns  NO   Runs   HS    Ave     BF  \\\n",
       "0         SR Tendulkar   1989-2012  463   452  41  18426  200  44.83  21367   \n",
       "1        KC Sangakkara   2000-2015  404   380  41  14234  169  41.98  18048   \n",
       "2           RT Ponting   1995-2012  375   365  39  13704  164  42.03  17046   \n",
       "3        ST Jayasuriya   1989-2011  445   433  18  13430  189  32.36  14725   \n",
       "4     DPMD Jayawardene   1998-2015  448   418  39  12650  144  33.37  16020   \n",
       "...                 ...        ...  ...   ...  ..    ...  ...    ...    ...   \n",
       "2362          R Pathan   2013-2013    1     1   0      2    2   2.00      9   \n",
       "2364      ACL Richards   2007-2007    1     1   0      2    2   2.00      2   \n",
       "2366       JNK Shannon   2013-2013    1     1   0      2    2   2.00      8   \n",
       "2367       GJ Thompson   2008-2008    3     2   0      2    2   1.00     21   \n",
       "2368      PIC Thompson   1997-1997    2     1   0      2    2   2.00      7   \n",
       "\n",
       "          SR  100  50   0 Nation  \n",
       "0      86.23   49  96  20  INDIA  \n",
       "1      78.86   25  93  15     SL  \n",
       "2      80.39   30  82  20    AUS  \n",
       "3      91.20   28  68  34     SL  \n",
       "4      78.96   19  77  28     SL  \n",
       "...      ...  ...  ..  ..    ...  \n",
       "2362   22.22    0   0   0     SA  \n",
       "2364  100.00    0   0   0     WI  \n",
       "2366   25.00    0   0   0    NAM  \n",
       "2367    9.52    0   0   1     SA  \n",
       "2368   28.57    0   0   0  BDESH  \n",
       "\n",
       "[2282 rows x 14 columns]"
      ]
     },
     "execution_count": 98,
     "metadata": {},
     "output_type": "execute_result"
    }
   ],
   "source": [
    "batting_df"
   ]
  },
  {
   "cell_type": "code",
   "execution_count": 99,
   "metadata": {},
   "outputs": [],
   "source": [
    "# Save file PreProcessed file\n",
    "batting_df.to_csv(\"new_batting.csv\",index=False)"
   ]
  },
  {
   "cell_type": "code",
   "execution_count": null,
   "metadata": {},
   "outputs": [],
   "source": []
  },
  {
   "cell_type": "code",
   "execution_count": null,
   "metadata": {},
   "outputs": [],
   "source": []
  },
  {
   "cell_type": "code",
   "execution_count": null,
   "metadata": {},
   "outputs": [],
   "source": []
  },
  {
   "cell_type": "markdown",
   "metadata": {},
   "source": [
    "# ANALYSIS"
   ]
  },
  {
   "cell_type": "code",
   "execution_count": 100,
   "metadata": {},
   "outputs": [],
   "source": [
    "df=pd.read_csv(\"new_batting.csv\")"
   ]
  },
  {
   "cell_type": "code",
   "execution_count": 101,
   "metadata": {},
   "outputs": [
    {
     "data": {
      "text/html": [
       "<div>\n",
       "<style scoped>\n",
       "    .dataframe tbody tr th:only-of-type {\n",
       "        vertical-align: middle;\n",
       "    }\n",
       "\n",
       "    .dataframe tbody tr th {\n",
       "        vertical-align: top;\n",
       "    }\n",
       "\n",
       "    .dataframe thead th {\n",
       "        text-align: right;\n",
       "    }\n",
       "</style>\n",
       "<table border=\"1\" class=\"dataframe\">\n",
       "  <thead>\n",
       "    <tr style=\"text-align: right;\">\n",
       "      <th></th>\n",
       "      <th>Player</th>\n",
       "      <th>Span</th>\n",
       "      <th>Mat</th>\n",
       "      <th>Inns</th>\n",
       "      <th>NO</th>\n",
       "      <th>Runs</th>\n",
       "      <th>HS</th>\n",
       "      <th>Ave</th>\n",
       "      <th>BF</th>\n",
       "      <th>SR</th>\n",
       "      <th>100</th>\n",
       "      <th>50</th>\n",
       "      <th>0</th>\n",
       "      <th>Nation</th>\n",
       "    </tr>\n",
       "  </thead>\n",
       "  <tbody>\n",
       "    <tr>\n",
       "      <th>0</th>\n",
       "      <td>SR Tendulkar</td>\n",
       "      <td>1989-2012</td>\n",
       "      <td>463</td>\n",
       "      <td>452</td>\n",
       "      <td>41</td>\n",
       "      <td>18426</td>\n",
       "      <td>200</td>\n",
       "      <td>44.83</td>\n",
       "      <td>21367</td>\n",
       "      <td>86.23</td>\n",
       "      <td>49</td>\n",
       "      <td>96</td>\n",
       "      <td>20</td>\n",
       "      <td>INDIA</td>\n",
       "    </tr>\n",
       "    <tr>\n",
       "      <th>1</th>\n",
       "      <td>KC Sangakkara</td>\n",
       "      <td>2000-2015</td>\n",
       "      <td>404</td>\n",
       "      <td>380</td>\n",
       "      <td>41</td>\n",
       "      <td>14234</td>\n",
       "      <td>169</td>\n",
       "      <td>41.98</td>\n",
       "      <td>18048</td>\n",
       "      <td>78.86</td>\n",
       "      <td>25</td>\n",
       "      <td>93</td>\n",
       "      <td>15</td>\n",
       "      <td>SL</td>\n",
       "    </tr>\n",
       "  </tbody>\n",
       "</table>\n",
       "</div>"
      ],
      "text/plain": [
       "           Player       Span  Mat  Inns  NO   Runs   HS    Ave     BF     SR  \\\n",
       "0   SR Tendulkar   1989-2012  463   452  41  18426  200  44.83  21367  86.23   \n",
       "1  KC Sangakkara   2000-2015  404   380  41  14234  169  41.98  18048  78.86   \n",
       "\n",
       "   100  50   0 Nation  \n",
       "0   49  96  20  INDIA  \n",
       "1   25  93  15     SL  "
      ]
     },
     "execution_count": 101,
     "metadata": {},
     "output_type": "execute_result"
    }
   ],
   "source": [
    "df.head(2)"
   ]
  },
  {
   "cell_type": "code",
   "execution_count": 102,
   "metadata": {},
   "outputs": [],
   "source": [
    "def Country_Wise_Runs(df):\n",
    "    country=[]\n",
    "    runs=[]\n",
    "    nation=df['Nation'].unique()\n",
    "    data=pd.DataFrame()\n",
    "    for i in nation:\n",
    "        x=df[df['Nation']==i]['Runs'].sum()\n",
    "        country.append(i)\n",
    "        runs.append(x)\n",
    "    data['Country']=country\n",
    "    data['Runs']=runs\n",
    "    return data"
   ]
  },
  {
   "cell_type": "code",
   "execution_count": 103,
   "metadata": {
    "scrolled": true
   },
   "outputs": [
    {
     "data": {
      "text/html": [
       "<div>\n",
       "<style scoped>\n",
       "    .dataframe tbody tr th:only-of-type {\n",
       "        vertical-align: middle;\n",
       "    }\n",
       "\n",
       "    .dataframe tbody tr th {\n",
       "        vertical-align: top;\n",
       "    }\n",
       "\n",
       "    .dataframe thead th {\n",
       "        text-align: right;\n",
       "    }\n",
       "</style>\n",
       "<table border=\"1\" class=\"dataframe\">\n",
       "  <thead>\n",
       "    <tr style=\"text-align: right;\">\n",
       "      <th></th>\n",
       "      <th>Player</th>\n",
       "      <th>Mat</th>\n",
       "    </tr>\n",
       "  </thead>\n",
       "  <tbody>\n",
       "    <tr>\n",
       "      <th>0</th>\n",
       "      <td>SR Tendulkar</td>\n",
       "      <td>463</td>\n",
       "    </tr>\n",
       "    <tr>\n",
       "      <th>4</th>\n",
       "      <td>DPMD Jayawardene</td>\n",
       "      <td>448</td>\n",
       "    </tr>\n",
       "    <tr>\n",
       "      <th>3</th>\n",
       "      <td>ST Jayasuriya</td>\n",
       "      <td>445</td>\n",
       "    </tr>\n",
       "    <tr>\n",
       "      <th>1</th>\n",
       "      <td>KC Sangakkara</td>\n",
       "      <td>404</td>\n",
       "    </tr>\n",
       "    <tr>\n",
       "      <th>30</th>\n",
       "      <td>Shahid Afridi</td>\n",
       "      <td>398</td>\n",
       "    </tr>\n",
       "    <tr>\n",
       "      <th>5</th>\n",
       "      <td>Inzamam-ul-Haq</td>\n",
       "      <td>378</td>\n",
       "    </tr>\n",
       "    <tr>\n",
       "      <th>2</th>\n",
       "      <td>RT Ponting</td>\n",
       "      <td>375</td>\n",
       "    </tr>\n",
       "    <tr>\n",
       "      <th>120</th>\n",
       "      <td>Wasim Akram</td>\n",
       "      <td>356</td>\n",
       "    </tr>\n",
       "    <tr>\n",
       "      <th>10</th>\n",
       "      <td>MS Dhoni</td>\n",
       "      <td>350</td>\n",
       "    </tr>\n",
       "    <tr>\n",
       "      <th>506</th>\n",
       "      <td>M Muralitharan</td>\n",
       "      <td>350</td>\n",
       "    </tr>\n",
       "  </tbody>\n",
       "</table>\n",
       "</div>"
      ],
      "text/plain": [
       "                Player  Mat\n",
       "0        SR Tendulkar   463\n",
       "4    DPMD Jayawardene   448\n",
       "3       ST Jayasuriya   445\n",
       "1       KC Sangakkara   404\n",
       "30      Shahid Afridi   398\n",
       "5      Inzamam-ul-Haq   378\n",
       "2          RT Ponting   375\n",
       "120       Wasim Akram   356\n",
       "10           MS Dhoni   350\n",
       "506    M Muralitharan   350"
      ]
     },
     "execution_count": 103,
     "metadata": {},
     "output_type": "execute_result"
    }
   ],
   "source": [
    "mat_10=df.sort_values(by=\"Mat\",ascending=False)\n",
    "mat_10[['Player','Mat']].head(10)"
   ]
  },
  {
   "cell_type": "code",
   "execution_count": null,
   "metadata": {},
   "outputs": [],
   "source": []
  },
  {
   "cell_type": "code",
   "execution_count": 104,
   "metadata": {},
   "outputs": [],
   "source": [
    "def sort_record(df,feature):\n",
    "    df=df.rename(columns={\"Player\":\"Name\",\"HS\":\"Highest Score\",\"Ave\":\"Average\",\"SR\":\"Strike Rate\",\"100\":\"100s\",\"50\":\"50s\"})\n",
    "    top_10=df.sort_values(by=feature,ascending=False)\n",
    "    top_10=top_10.head(10)\n",
    "    return top_10[['Name',feature]]"
   ]
  },
  {
   "cell_type": "code",
   "execution_count": 105,
   "metadata": {},
   "outputs": [
    {
     "data": {
      "text/html": [
       "<div>\n",
       "<style scoped>\n",
       "    .dataframe tbody tr th:only-of-type {\n",
       "        vertical-align: middle;\n",
       "    }\n",
       "\n",
       "    .dataframe tbody tr th {\n",
       "        vertical-align: top;\n",
       "    }\n",
       "\n",
       "    .dataframe thead th {\n",
       "        text-align: right;\n",
       "    }\n",
       "</style>\n",
       "<table border=\"1\" class=\"dataframe\">\n",
       "  <thead>\n",
       "    <tr style=\"text-align: right;\">\n",
       "      <th></th>\n",
       "      <th>Name</th>\n",
       "      <th>100s</th>\n",
       "    </tr>\n",
       "  </thead>\n",
       "  <tbody>\n",
       "    <tr>\n",
       "      <th>0</th>\n",
       "      <td>SR Tendulkar</td>\n",
       "      <td>49</td>\n",
       "    </tr>\n",
       "    <tr>\n",
       "      <th>6</th>\n",
       "      <td>V Kohli</td>\n",
       "      <td>43</td>\n",
       "    </tr>\n",
       "    <tr>\n",
       "      <th>2</th>\n",
       "      <td>RT Ponting</td>\n",
       "      <td>30</td>\n",
       "    </tr>\n",
       "    <tr>\n",
       "      <th>3</th>\n",
       "      <td>ST Jayasuriya</td>\n",
       "      <td>28</td>\n",
       "    </tr>\n",
       "    <tr>\n",
       "      <th>19</th>\n",
       "      <td>RG Sharma</td>\n",
       "      <td>28</td>\n",
       "    </tr>\n",
       "    <tr>\n",
       "      <th>28</th>\n",
       "      <td>HM Amla</td>\n",
       "      <td>27</td>\n",
       "    </tr>\n",
       "    <tr>\n",
       "      <th>1</th>\n",
       "      <td>KC Sangakkara</td>\n",
       "      <td>25</td>\n",
       "    </tr>\n",
       "    <tr>\n",
       "      <th>16</th>\n",
       "      <td>AB de Villiers</td>\n",
       "      <td>25</td>\n",
       "    </tr>\n",
       "    <tr>\n",
       "      <th>11</th>\n",
       "      <td>CH Gayle</td>\n",
       "      <td>25</td>\n",
       "    </tr>\n",
       "    <tr>\n",
       "      <th>13</th>\n",
       "      <td>TM Dilshan</td>\n",
       "      <td>22</td>\n",
       "    </tr>\n",
       "  </tbody>\n",
       "</table>\n",
       "</div>"
      ],
      "text/plain": [
       "               Name  100s\n",
       "0     SR Tendulkar     49\n",
       "6          V Kohli     43\n",
       "2       RT Ponting     30\n",
       "3    ST Jayasuriya     28\n",
       "19       RG Sharma     28\n",
       "28         HM Amla     27\n",
       "1    KC Sangakkara     25\n",
       "16  AB de Villiers     25\n",
       "11        CH Gayle     25\n",
       "13      TM Dilshan     22"
      ]
     },
     "execution_count": 105,
     "metadata": {},
     "output_type": "execute_result"
    }
   ],
   "source": [
    "sort_record(df,\"100s\")"
   ]
  },
  {
   "cell_type": "code",
   "execution_count": 107,
   "metadata": {},
   "outputs": [
    {
     "data": {
      "text/plain": [
       "Index(['Player', 'Span', 'Mat', 'Inns', 'NO', 'Runs', 'HS', 'Ave', 'BF', 'SR',\n",
       "       '100', '50', '0', 'Nation'],\n",
       "      dtype='object')"
      ]
     },
     "execution_count": 107,
     "metadata": {},
     "output_type": "execute_result"
    }
   ],
   "source": [
    "df.columns"
   ]
  },
  {
   "cell_type": "code",
   "execution_count": 145,
   "metadata": {},
   "outputs": [],
   "source": [
    "def player_stats_batting(df,name):\n",
    "    x=df[df['Player']==name]\n",
    "    Span=x['Span'].values[0]\n",
    "    Matches=x['Mat'].values[0]\n",
    "    Innings=x['Inns'].values[0]\n",
    "    Runs=x['Runs'].values[0]\n",
    "    Highest_Score=x['HS'].values[0]\n",
    "    Average=x['Ave'].values[0]\n",
    "    Strike_Rate=x['SR'].values[0]\n",
    "    Hundreds=x['100'].values[0]\n",
    "    Fifties=x['50'].values[0]\n",
    "    Nation=x['Nation'].values[0]\n",
    "    return Span,Matches,Innings,Runs,Highest_Score,Average,Strike_Rate,Hundreds,Fifties,Nation"
   ]
  },
  {
   "cell_type": "code",
   "execution_count": 146,
   "metadata": {},
   "outputs": [
    {
     "data": {
      "text/plain": [
       "('1989-2012', 463, 452, 18426, 200, 44.83, 86.23, 49, 96, 'INDIA')"
      ]
     },
     "execution_count": 146,
     "metadata": {},
     "output_type": "execute_result"
    }
   ],
   "source": [
    "player_stats_batting(df,\"SR Tendulkar \")"
   ]
  },
  {
   "cell_type": "code",
   "execution_count": null,
   "metadata": {},
   "outputs": [],
   "source": []
  },
  {
   "cell_type": "code",
   "execution_count": null,
   "metadata": {},
   "outputs": [],
   "source": []
  },
  {
   "cell_type": "code",
   "execution_count": null,
   "metadata": {},
   "outputs": [],
   "source": []
  },
  {
   "cell_type": "code",
   "execution_count": null,
   "metadata": {},
   "outputs": [],
   "source": []
  }
 ],
 "metadata": {
  "kernelspec": {
   "display_name": "Python 3",
   "language": "python",
   "name": "python3"
  },
  "language_info": {
   "codemirror_mode": {
    "name": "ipython",
    "version": 3
   },
   "file_extension": ".py",
   "mimetype": "text/x-python",
   "name": "python",
   "nbconvert_exporter": "python",
   "pygments_lexer": "ipython3",
   "version": "3.8.5"
  }
 },
 "nbformat": 4,
 "nbformat_minor": 4
}
