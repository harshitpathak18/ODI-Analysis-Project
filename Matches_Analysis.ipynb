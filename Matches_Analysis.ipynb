{
 "cells": [
  {
   "cell_type": "markdown",
   "metadata": {},
   "source": [
    "## Importing Libraries"
   ]
  },
  {
   "cell_type": "code",
   "execution_count": 1,
   "metadata": {},
   "outputs": [],
   "source": [
    "import pandas as pd\n",
    "import numpy as np\n",
    "import matplotlib.pyplot as plt\n",
    "import seaborn as sns\n",
    "import plotly"
   ]
  },
  {
   "cell_type": "code",
   "execution_count": 2,
   "metadata": {},
   "outputs": [],
   "source": [
    "# Read data files\n",
    "match_df=pd.read_csv(\"ODI_Matches.csv\")"
   ]
  },
  {
   "cell_type": "code",
   "execution_count": 3,
   "metadata": {},
   "outputs": [
    {
     "data": {
      "text/html": [
       "<div>\n",
       "<style scoped>\n",
       "    .dataframe tbody tr th:only-of-type {\n",
       "        vertical-align: middle;\n",
       "    }\n",
       "\n",
       "    .dataframe tbody tr th {\n",
       "        vertical-align: top;\n",
       "    }\n",
       "\n",
       "    .dataframe thead th {\n",
       "        text-align: right;\n",
       "    }\n",
       "</style>\n",
       "<table border=\"1\" class=\"dataframe\">\n",
       "  <thead>\n",
       "    <tr style=\"text-align: right;\">\n",
       "      <th></th>\n",
       "      <th>Unnamed: 0</th>\n",
       "      <th>Scorecard</th>\n",
       "      <th>Team 1</th>\n",
       "      <th>Team 2</th>\n",
       "      <th>Margin</th>\n",
       "      <th>Ground</th>\n",
       "      <th>Match Date</th>\n",
       "      <th>Winner</th>\n",
       "      <th>Host_Country</th>\n",
       "      <th>Venue_Team1</th>\n",
       "      <th>Venue_Team2</th>\n",
       "      <th>Innings_Team1</th>\n",
       "      <th>Innings_Team2</th>\n",
       "    </tr>\n",
       "  </thead>\n",
       "  <tbody>\n",
       "    <tr>\n",
       "      <th>7489</th>\n",
       "      <td>3747</td>\n",
       "      <td>ODI # 3931</td>\n",
       "      <td>New Zealand</td>\n",
       "      <td>India</td>\n",
       "      <td>Winner2ndInning</td>\n",
       "      <td>Pune</td>\n",
       "      <td>Oct 25, 2017</td>\n",
       "      <td>India</td>\n",
       "      <td>India</td>\n",
       "      <td>Away</td>\n",
       "      <td>Home</td>\n",
       "      <td>First</td>\n",
       "      <td>Second</td>\n",
       "    </tr>\n",
       "    <tr>\n",
       "      <th>7490</th>\n",
       "      <td>3748</td>\n",
       "      <td>ODI # 3932</td>\n",
       "      <td>New Zealand</td>\n",
       "      <td>India</td>\n",
       "      <td>Winner1stInning</td>\n",
       "      <td>Kanpur</td>\n",
       "      <td>Oct 29, 2017</td>\n",
       "      <td>India</td>\n",
       "      <td>India</td>\n",
       "      <td>Away</td>\n",
       "      <td>Home</td>\n",
       "      <td>Second</td>\n",
       "      <td>First</td>\n",
       "    </tr>\n",
       "    <tr>\n",
       "      <th>7491</th>\n",
       "      <td>3749</td>\n",
       "      <td>ODI # 3933</td>\n",
       "      <td>Namibia</td>\n",
       "      <td>Hong Kong</td>\n",
       "      <td>Winner2ndInning</td>\n",
       "      <td>Mumbai</td>\n",
       "      <td>Aug 12, 2017</td>\n",
       "      <td>Namibia</td>\n",
       "      <td>India</td>\n",
       "      <td>Neutral</td>\n",
       "      <td>Neutral</td>\n",
       "      <td>Second</td>\n",
       "      <td>First</td>\n",
       "    </tr>\n",
       "    <tr>\n",
       "      <th>7492</th>\n",
       "      <td>3750</td>\n",
       "      <td>ODI # 3934</td>\n",
       "      <td>U.S.A.</td>\n",
       "      <td>Bermuda</td>\n",
       "      <td>Winner2ndInning</td>\n",
       "      <td>Mumbai</td>\n",
       "      <td>Aug 12, 2017</td>\n",
       "      <td>U.S.A.</td>\n",
       "      <td>India</td>\n",
       "      <td>Neutral</td>\n",
       "      <td>Neutral</td>\n",
       "      <td>Second</td>\n",
       "      <td>First</td>\n",
       "    </tr>\n",
       "    <tr>\n",
       "      <th>7493</th>\n",
       "      <td>3749</td>\n",
       "      <td>ODI # 3935</td>\n",
       "      <td>Namibia</td>\n",
       "      <td>East Africa</td>\n",
       "      <td>Winner1stInning</td>\n",
       "      <td>Mumbai</td>\n",
       "      <td>Aug 12, 2017</td>\n",
       "      <td>East Africa</td>\n",
       "      <td>India</td>\n",
       "      <td>Neutral</td>\n",
       "      <td>Neutral</td>\n",
       "      <td>Second</td>\n",
       "      <td>First</td>\n",
       "    </tr>\n",
       "  </tbody>\n",
       "</table>\n",
       "</div>"
      ],
      "text/plain": [
       "      Unnamed: 0   Scorecard       Team 1       Team 2           Margin  \\\n",
       "7489        3747  ODI # 3931  New Zealand        India  Winner2ndInning   \n",
       "7490        3748  ODI # 3932  New Zealand        India  Winner1stInning   \n",
       "7491        3749  ODI # 3933      Namibia    Hong Kong  Winner2ndInning   \n",
       "7492        3750  ODI # 3934       U.S.A.      Bermuda  Winner2ndInning   \n",
       "7493        3749  ODI # 3935      Namibia  East Africa  Winner1stInning   \n",
       "\n",
       "      Ground    Match Date       Winner Host_Country Venue_Team1 Venue_Team2  \\\n",
       "7489    Pune  Oct 25, 2017        India        India        Away        Home   \n",
       "7490  Kanpur  Oct 29, 2017        India        India        Away        Home   \n",
       "7491  Mumbai  Aug 12, 2017      Namibia        India     Neutral     Neutral   \n",
       "7492  Mumbai  Aug 12, 2017       U.S.A.        India     Neutral     Neutral   \n",
       "7493  Mumbai  Aug 12, 2017  East Africa        India     Neutral     Neutral   \n",
       "\n",
       "     Innings_Team1 Innings_Team2  \n",
       "7489         First        Second  \n",
       "7490        Second         First  \n",
       "7491        Second         First  \n",
       "7492        Second         First  \n",
       "7493        Second         First  "
      ]
     },
     "execution_count": 3,
     "metadata": {},
     "output_type": "execute_result"
    }
   ],
   "source": [
    "match_df.tail()"
   ]
  },
  {
   "cell_type": "code",
   "execution_count": 4,
   "metadata": {},
   "outputs": [
    {
     "data": {
      "text/plain": [
       "Unnamed: 0         0\n",
       "Scorecard          0\n",
       "Team 1             0\n",
       "Team 2             0\n",
       "Margin             0\n",
       "Ground             0\n",
       "Match Date         0\n",
       "Winner             0\n",
       "Host_Country     130\n",
       "Venue_Team1        0\n",
       "Venue_Team2        0\n",
       "Innings_Team1      0\n",
       "Innings_Team2      0\n",
       "dtype: int64"
      ]
     },
     "execution_count": 4,
     "metadata": {},
     "output_type": "execute_result"
    }
   ],
   "source": [
    "# check for null values\n",
    "match_df.isnull().sum()"
   ]
  },
  {
   "cell_type": "code",
   "execution_count": 5,
   "metadata": {},
   "outputs": [],
   "source": [
    "# Coverting match_date into year,month,day\n",
    "y=match_df['Match Date'].str.split(\", \")\n",
    "Year=[]\n",
    "Month=[]\n",
    "Day=[]\n",
    "for i in range(7494):\n",
    "    z=y[i][0]\n",
    "    x=z.split(\" \")\n",
    "    Month.append(x[0])\n",
    "    Day.append(x[1])\n",
    "    Year.append(y[i][1])\n",
    "    \n",
    "# add column in year,month, day\n",
    "match_df[\"Day\"]=Day\n",
    "match_df[\"Month\"]=Month\n",
    "match_df[\"Year\"]=Year\n",
    "\n",
    "# Winner Inning\n",
    "Winning_Inn=[]\n",
    "for i in range(7494):\n",
    "    x=match_df['Margin'][i].split('r')[1]\n",
    "    Winning_Inn.append(x[0])\n",
    "    \n",
    "match_df[\"WinInn\"]=Winning_Inn"
   ]
  },
  {
   "cell_type": "code",
   "execution_count": 6,
   "metadata": {},
   "outputs": [],
   "source": [
    "# convert object into integer\n",
    "match_df[\"Year\"]=match_df[\"Year\"].astype('int')\n",
    "match_df[\"WinInn\"]=match_df[\"WinInn\"].astype('int')"
   ]
  },
  {
   "cell_type": "code",
   "execution_count": 7,
   "metadata": {},
   "outputs": [],
   "source": [
    "# Drop useless columns\n",
    "Columns=['Unnamed: 0','Match Date','Venue_Team1','Venue_Team2','Innings_Team1','Innings_Team2','Margin']\n",
    "match_df.drop(Columns,axis=1,inplace=True)"
   ]
  },
  {
   "cell_type": "code",
   "execution_count": 8,
   "metadata": {
    "scrolled": true
   },
   "outputs": [],
   "source": [
    "# Rename column\n",
    "match_df.rename(columns={\"Host_Country\":\"Host\"}, inplace=True)"
   ]
  },
  {
   "cell_type": "code",
   "execution_count": 9,
   "metadata": {
    "scrolled": true
   },
   "outputs": [
    {
     "data": {
      "text/html": [
       "<div>\n",
       "<style scoped>\n",
       "    .dataframe tbody tr th:only-of-type {\n",
       "        vertical-align: middle;\n",
       "    }\n",
       "\n",
       "    .dataframe tbody tr th {\n",
       "        vertical-align: top;\n",
       "    }\n",
       "\n",
       "    .dataframe thead th {\n",
       "        text-align: right;\n",
       "    }\n",
       "</style>\n",
       "<table border=\"1\" class=\"dataframe\">\n",
       "  <thead>\n",
       "    <tr style=\"text-align: right;\">\n",
       "      <th></th>\n",
       "      <th>Scorecard</th>\n",
       "      <th>Team 1</th>\n",
       "      <th>Team 2</th>\n",
       "      <th>Ground</th>\n",
       "      <th>Winner</th>\n",
       "      <th>Host</th>\n",
       "      <th>Day</th>\n",
       "      <th>Month</th>\n",
       "      <th>Year</th>\n",
       "      <th>WinInn</th>\n",
       "    </tr>\n",
       "  </thead>\n",
       "  <tbody>\n",
       "    <tr>\n",
       "      <th>0</th>\n",
       "      <td>ODI # 1</td>\n",
       "      <td>Australia</td>\n",
       "      <td>England</td>\n",
       "      <td>Melbourne</td>\n",
       "      <td>Australia</td>\n",
       "      <td>Australia</td>\n",
       "      <td>5</td>\n",
       "      <td>Jan</td>\n",
       "      <td>1971</td>\n",
       "      <td>2</td>\n",
       "    </tr>\n",
       "    <tr>\n",
       "      <th>1</th>\n",
       "      <td>ODI # 2</td>\n",
       "      <td>England</td>\n",
       "      <td>Australia</td>\n",
       "      <td>Manchester</td>\n",
       "      <td>England</td>\n",
       "      <td>England</td>\n",
       "      <td>24</td>\n",
       "      <td>Aug</td>\n",
       "      <td>1972</td>\n",
       "      <td>2</td>\n",
       "    </tr>\n",
       "    <tr>\n",
       "      <th>2</th>\n",
       "      <td>ODI # 3</td>\n",
       "      <td>England</td>\n",
       "      <td>Australia</td>\n",
       "      <td>Lord's</td>\n",
       "      <td>Australia</td>\n",
       "      <td>England</td>\n",
       "      <td>26</td>\n",
       "      <td>Aug</td>\n",
       "      <td>1972</td>\n",
       "      <td>2</td>\n",
       "    </tr>\n",
       "    <tr>\n",
       "      <th>3</th>\n",
       "      <td>ODI # 4</td>\n",
       "      <td>England</td>\n",
       "      <td>Australia</td>\n",
       "      <td>Birmingham</td>\n",
       "      <td>England</td>\n",
       "      <td>England</td>\n",
       "      <td>28</td>\n",
       "      <td>Aug</td>\n",
       "      <td>1972</td>\n",
       "      <td>2</td>\n",
       "    </tr>\n",
       "    <tr>\n",
       "      <th>4</th>\n",
       "      <td>ODI # 5</td>\n",
       "      <td>New Zealand</td>\n",
       "      <td>Pakistan</td>\n",
       "      <td>Christchurch</td>\n",
       "      <td>New Zealand</td>\n",
       "      <td>New Zealand</td>\n",
       "      <td>11</td>\n",
       "      <td>Feb</td>\n",
       "      <td>1973</td>\n",
       "      <td>1</td>\n",
       "    </tr>\n",
       "  </tbody>\n",
       "</table>\n",
       "</div>"
      ],
      "text/plain": [
       "  Scorecard       Team 1     Team 2        Ground       Winner         Host  \\\n",
       "0   ODI # 1    Australia    England     Melbourne    Australia    Australia   \n",
       "1   ODI # 2      England  Australia    Manchester      England      England   \n",
       "2   ODI # 3      England  Australia        Lord's    Australia      England   \n",
       "3   ODI # 4      England  Australia    Birmingham      England      England   \n",
       "4   ODI # 5  New Zealand   Pakistan  Christchurch  New Zealand  New Zealand   \n",
       "\n",
       "  Day Month  Year  WinInn  \n",
       "0   5   Jan  1971       2  \n",
       "1  24   Aug  1972       2  \n",
       "2  26   Aug  1972       2  \n",
       "3  28   Aug  1972       2  \n",
       "4  11   Feb  1973       1  "
      ]
     },
     "execution_count": 9,
     "metadata": {},
     "output_type": "execute_result"
    }
   ],
   "source": [
    "match_df.head(5)"
   ]
  },
  {
   "cell_type": "code",
   "execution_count": 10,
   "metadata": {},
   "outputs": [],
   "source": [
    "match_df.drop_duplicates(subset=['Scorecard'],inplace=True)"
   ]
  },
  {
   "cell_type": "code",
   "execution_count": 11,
   "metadata": {},
   "outputs": [],
   "source": [
    "# Save new file\n",
    "# match_df.to_csv(\"new_match.csv\",index=0)"
   ]
  },
  {
   "cell_type": "code",
   "execution_count": null,
   "metadata": {},
   "outputs": [],
   "source": []
  },
  {
   "cell_type": "code",
   "execution_count": null,
   "metadata": {},
   "outputs": [],
   "source": []
  },
  {
   "cell_type": "code",
   "execution_count": null,
   "metadata": {},
   "outputs": [],
   "source": []
  },
  {
   "cell_type": "code",
   "execution_count": null,
   "metadata": {},
   "outputs": [],
   "source": []
  },
  {
   "cell_type": "markdown",
   "metadata": {},
   "source": [
    "# Analysis-------"
   ]
  },
  {
   "cell_type": "code",
   "execution_count": 12,
   "metadata": {},
   "outputs": [],
   "source": [
    "df=pd.read_csv(\"new_match.csv\")"
   ]
  },
  {
   "cell_type": "code",
   "execution_count": 13,
   "metadata": {},
   "outputs": [
    {
     "data": {
      "text/plain": [
       "Australia       552\n",
       "India           475\n",
       "Pakistan        466\n",
       "West Indies     380\n",
       "Sri Lanka       371\n",
       "South Africa    361\n",
       "England         343\n",
       "New Zealand     324\n",
       "Zimbabwe        129\n",
       "Bangladesh      105\n",
       "Ireland          51\n",
       "Afghanistan      42\n",
       "Kenya            42\n",
       "Scotland         31\n",
       "Netherlands      28\n",
       "Canada           17\n",
       "U.A.E.            9\n",
       "Bermuda           7\n",
       "Hong Kong         6\n",
       "P.N.G.            5\n",
       "U.S.A.            1\n",
       "Namibia           1\n",
       "East Africa       1\n",
       "Name: Winner, dtype: int64"
      ]
     },
     "execution_count": 13,
     "metadata": {},
     "output_type": "execute_result"
    }
   ],
   "source": [
    "df['Winner'].value_counts()"
   ]
  },
  {
   "cell_type": "code",
   "execution_count": 15,
   "metadata": {},
   "outputs": [],
   "source": [
    "def country_played_over_years(df,country):\n",
    "    Yf=df[(df['Team 1']==country) | (df['Team 2']==country)]['Year'].value_counts().reset_index()\n",
    "    Yf=Yf.rename(columns={\"index\":\"Year\",\"Year\":\"Matches Played\"})\n",
    "    Yf=Yf.sort_values(by=[\"Year\"])\n",
    "    return Yf"
   ]
  },
  {
   "cell_type": "code",
   "execution_count": 17,
   "metadata": {},
   "outputs": [],
   "source": [
    "def country_played_with_other_countries(df,country):\n",
    "    Yf=df[(df['Team 1']==country) | (df['Team 2']==country)]['Year'].value_counts().reset_index()\n",
    "    Yf=Yf.rename(columns={\"index\":\"Year\",\"Year\":\"Matches Played\"})\n",
    "    Yf=Yf.sort_values(by=[\"Year\"])\n",
    "    return Yf\n"
   ]
  },
  {
   "cell_type": "code",
   "execution_count": 22,
   "metadata": {},
   "outputs": [],
   "source": [
    "def country_list(df):\n",
    "    countries_list=list(df['Team 1'].unique())\n",
    "    countries_list.sort()\n",
    "    return countries_list"
   ]
  },
  {
   "cell_type": "code",
   "execution_count": 23,
   "metadata": {},
   "outputs": [],
   "source": [
    "def win_loss(df):\n",
    "    new_df=df['Winner'].value_counts().reset_index()\n",
    "    new_df=new_df.rename(columns={\"index\":\"Country\",\"Winner\":\"Won\"})\n",
    "    new_df=new_df.sort_values(by=\"Country\")\n",
    "    \n",
    "    l=country_list(df)\n",
    "    List=[]\n",
    "    x=df\n",
    "    for i in range(22):\n",
    "        x=df[((df['Team 1']==l[i]) | (df['Team 2']==l[i])) & (df['Winner']!=l[i])]['Winner'].count()\n",
    "        List.append(x)\n",
    "    List[20]=0\n",
    "    List[21]=351\n",
    "    List.append(345)\n",
    "    new_df['Loss']=List\n",
    "    new_df[\"ODI_Played\"]=new_df['Won']+new_df['Loss']\n",
    "    return new_df"
   ]
  },
  {
   "cell_type": "code",
   "execution_count": 26,
   "metadata": {},
   "outputs": [],
   "source": [
    "def opp_matches(df,country):\n",
    "    Ind=df[(df['Team 1']==country) | (df['Team 2']==country)]\n",
    "    x1=Ind[df['Team 1']!=country][\"Team 1\"].value_counts()\n",
    "    x2=Ind[df['Team 2']!=country][\"Team 2\"].value_counts()\n",
    "    z=x1.append(x2).reset_index()\n",
    "    l=list(z[\"index\"].unique())\n",
    "    team=[]\n",
    "    matches=[]\n",
    "    for i in range(len(l)):\n",
    "        m=z[z[\"index\"]==l[i]].sum()[0]\n",
    "        team.append(l[i])\n",
    "        matches.append(m)\n",
    "    data=pd.DataFrame()\n",
    "    data[\"Opponet\"]=team\n",
    "    data[\"Matches\"]=matches\n",
    "    return data"
   ]
  },
  {
   "cell_type": "code",
   "execution_count": 113,
   "metadata": {},
   "outputs": [],
   "source": [
    "def win_loss_with_countries(df,country):\n",
    "    Opponent=[]\n",
    "    t_win=[]\n",
    "    op_win=[]\n",
    "    Country_list= country_list(df)\n",
    "    for i in range(len(Country_list)):\n",
    "        opp=Country_list[i]\n",
    "        if opp!=country:\n",
    "            x1=df[(df['Team 1']==country) & (df[\"Team 2\"]==opp)]['Winner'].value_counts().reset_index()\n",
    "            x2=df[(df['Team 2']==country) & (df[\"Team 1\"]==opp)]['Winner'].value_counts().reset_index()\n",
    "            z=x1.append(x2)\n",
    "            team=z[z['index']==country].sum()[\"Winner\"]\n",
    "            opp_win=z[z['index']==opp].sum()[\"Winner\"]\n",
    "            Opponent.append(opp)\n",
    "            op_win.append(opp_win)\n",
    "            t_win.append(team)\n",
    "    data=pd.DataFrame()\n",
    "    data['Opponent']=Opponent\n",
    "    data[\"Opp_win\"]=op_win\n",
    "    data[\"team_win\"]=t_win\n",
    "    \n",
    "    data[\"Opp_win\"]=data[\"Opp_win\"].astype('int')\n",
    "    data[\"team_win\"]=data[\"team_win\"].astype('int')\n",
    "\n",
    "    data[\"Total_matches\"]=data[\"Opp_win\"]+data[\"team_win\"]\n",
    "    return data"
   ]
  }
 ],
 "metadata": {
  "kernelspec": {
   "display_name": "Python 3",
   "language": "python",
   "name": "python3"
  },
  "language_info": {
   "codemirror_mode": {
    "name": "ipython",
    "version": 3
   },
   "file_extension": ".py",
   "mimetype": "text/x-python",
   "name": "python",
   "nbconvert_exporter": "python",
   "pygments_lexer": "ipython3",
   "version": "3.8.5"
  }
 },
 "nbformat": 4,
 "nbformat_minor": 4
}
