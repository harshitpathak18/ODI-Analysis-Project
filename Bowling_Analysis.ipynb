{
 "cells": [
  {
   "cell_type": "markdown",
   "metadata": {},
   "source": [
    "### Importing Libraries"
   ]
  },
  {
   "cell_type": "code",
   "execution_count": 227,
   "metadata": {},
   "outputs": [],
   "source": [
    "import pandas as pd\n",
    "import numpy as np\n",
    "import seaborn as sns\n",
    "import matplotlib.pyplot as plt"
   ]
  },
  {
   "cell_type": "code",
   "execution_count": 228,
   "metadata": {},
   "outputs": [],
   "source": [
    "# read dataset\n",
    "bowling_df=pd.read_csv(\"ODIs_Bowling.csv\")"
   ]
  },
  {
   "cell_type": "code",
   "execution_count": 229,
   "metadata": {},
   "outputs": [],
   "source": [
    "# Drop useless columns\n",
    "index=bowling_df[(bowling_df['Mat']==\"-\")|(bowling_df['Inns']==\"-\")|(bowling_df['Balls']==\"-\")| (bowling_df['BBI']==\"-\")].index\n",
    "bowling_df.drop(index,inplace=True)\n",
    "bowling_df.drop(columns=['Unnamed: 0','Unnamed: 13'],inplace=True)"
   ]
  },
  {
   "cell_type": "code",
   "execution_count": 230,
   "metadata": {},
   "outputs": [],
   "source": [
    "# players with at least 20 matches\n",
    "bowling_df=bowling_df[bowling_df['Mat']>=20]"
   ]
  },
  {
   "cell_type": "code",
   "execution_count": 231,
   "metadata": {},
   "outputs": [
    {
     "data": {
      "text/html": [
       "<div>\n",
       "<style scoped>\n",
       "    .dataframe tbody tr th:only-of-type {\n",
       "        vertical-align: middle;\n",
       "    }\n",
       "\n",
       "    .dataframe tbody tr th {\n",
       "        vertical-align: top;\n",
       "    }\n",
       "\n",
       "    .dataframe thead th {\n",
       "        text-align: right;\n",
       "    }\n",
       "</style>\n",
       "<table border=\"1\" class=\"dataframe\">\n",
       "  <thead>\n",
       "    <tr style=\"text-align: right;\">\n",
       "      <th></th>\n",
       "      <th>Player</th>\n",
       "      <th>Span</th>\n",
       "      <th>Mat</th>\n",
       "      <th>Inns</th>\n",
       "      <th>Balls</th>\n",
       "      <th>Runs</th>\n",
       "      <th>Wkts</th>\n",
       "      <th>BBI</th>\n",
       "      <th>Ave</th>\n",
       "      <th>Econ</th>\n",
       "      <th>SR</th>\n",
       "      <th>4</th>\n",
       "      <th>5</th>\n",
       "    </tr>\n",
       "  </thead>\n",
       "  <tbody>\n",
       "    <tr>\n",
       "      <th>0</th>\n",
       "      <td>M Muralitharan (Asia/ICC/SL)</td>\n",
       "      <td>1993-2011</td>\n",
       "      <td>350</td>\n",
       "      <td>341</td>\n",
       "      <td>18811</td>\n",
       "      <td>12326</td>\n",
       "      <td>534</td>\n",
       "      <td>7/30</td>\n",
       "      <td>23.08</td>\n",
       "      <td>3.93</td>\n",
       "      <td>35.2</td>\n",
       "      <td>15</td>\n",
       "      <td>10</td>\n",
       "    </tr>\n",
       "    <tr>\n",
       "      <th>1</th>\n",
       "      <td>Wasim Akram (PAK)</td>\n",
       "      <td>1984-2003</td>\n",
       "      <td>356</td>\n",
       "      <td>351</td>\n",
       "      <td>18186</td>\n",
       "      <td>11812</td>\n",
       "      <td>502</td>\n",
       "      <td>5/15</td>\n",
       "      <td>23.52</td>\n",
       "      <td>3.89</td>\n",
       "      <td>36.2</td>\n",
       "      <td>17</td>\n",
       "      <td>6</td>\n",
       "    </tr>\n",
       "    <tr>\n",
       "      <th>2</th>\n",
       "      <td>Waqar Younis (PAK)</td>\n",
       "      <td>1989-2003</td>\n",
       "      <td>262</td>\n",
       "      <td>258</td>\n",
       "      <td>12698</td>\n",
       "      <td>9919</td>\n",
       "      <td>416</td>\n",
       "      <td>7/36</td>\n",
       "      <td>23.84</td>\n",
       "      <td>4.68</td>\n",
       "      <td>30.5</td>\n",
       "      <td>14</td>\n",
       "      <td>13</td>\n",
       "    </tr>\n",
       "    <tr>\n",
       "      <th>3</th>\n",
       "      <td>WPUJC Vaas (Asia/SL)</td>\n",
       "      <td>1994-2008</td>\n",
       "      <td>322</td>\n",
       "      <td>320</td>\n",
       "      <td>15775</td>\n",
       "      <td>11014</td>\n",
       "      <td>400</td>\n",
       "      <td>8/19</td>\n",
       "      <td>27.53</td>\n",
       "      <td>4.18</td>\n",
       "      <td>39.4</td>\n",
       "      <td>9</td>\n",
       "      <td>4</td>\n",
       "    </tr>\n",
       "    <tr>\n",
       "      <th>4</th>\n",
       "      <td>Shahid Afridi (Asia/ICC/PAK)</td>\n",
       "      <td>1996-2015</td>\n",
       "      <td>398</td>\n",
       "      <td>372</td>\n",
       "      <td>17670</td>\n",
       "      <td>13632</td>\n",
       "      <td>395</td>\n",
       "      <td>7/12</td>\n",
       "      <td>34.51</td>\n",
       "      <td>4.62</td>\n",
       "      <td>44.7</td>\n",
       "      <td>4</td>\n",
       "      <td>9</td>\n",
       "    </tr>\n",
       "  </tbody>\n",
       "</table>\n",
       "</div>"
      ],
      "text/plain": [
       "                         Player       Span  Mat Inns  Balls   Runs Wkts   BBI  \\\n",
       "0  M Muralitharan (Asia/ICC/SL)  1993-2011  350  341  18811  12326  534  7/30   \n",
       "1             Wasim Akram (PAK)  1984-2003  356  351  18186  11812  502  5/15   \n",
       "2            Waqar Younis (PAK)  1989-2003  262  258  12698   9919  416  7/36   \n",
       "3          WPUJC Vaas (Asia/SL)  1994-2008  322  320  15775  11014  400  8/19   \n",
       "4  Shahid Afridi (Asia/ICC/PAK)  1996-2015  398  372  17670  13632  395  7/12   \n",
       "\n",
       "     Ave  Econ    SR   4   5  \n",
       "0  23.08  3.93  35.2  15  10  \n",
       "1  23.52  3.89  36.2  17   6  \n",
       "2  23.84  4.68  30.5  14  13  \n",
       "3  27.53  4.18  39.4   9   4  \n",
       "4  34.51  4.62  44.7   4   9  "
      ]
     },
     "execution_count": 231,
     "metadata": {},
     "output_type": "execute_result"
    }
   ],
   "source": [
    "bowling_df.head(5)"
   ]
  },
  {
   "cell_type": "code",
   "execution_count": 232,
   "metadata": {},
   "outputs": [
    {
     "data": {
      "text/plain": [
       "Player    0\n",
       "Span      0\n",
       "Mat       0\n",
       "Inns      0\n",
       "Balls     0\n",
       "Runs      0\n",
       "Wkts      0\n",
       "BBI       0\n",
       "Ave       0\n",
       "Econ      0\n",
       "SR        0\n",
       "4         0\n",
       "5         0\n",
       "dtype: int64"
      ]
     },
     "execution_count": 232,
     "metadata": {},
     "output_type": "execute_result"
    }
   ],
   "source": [
    "# Check null values\n",
    "bowling_df.isnull().sum()"
   ]
  },
  {
   "cell_type": "code",
   "execution_count": 233,
   "metadata": {},
   "outputs": [
    {
     "name": "stdout",
     "output_type": "stream",
     "text": [
      "<class 'pandas.core.frame.DataFrame'>\n",
      "Int64Index: 776 entries, 0 to 1592\n",
      "Data columns (total 13 columns):\n",
      " #   Column  Non-Null Count  Dtype \n",
      "---  ------  --------------  ----- \n",
      " 0   Player  776 non-null    object\n",
      " 1   Span    776 non-null    object\n",
      " 2   Mat     776 non-null    int64 \n",
      " 3   Inns    776 non-null    object\n",
      " 4   Balls   776 non-null    object\n",
      " 5   Runs    776 non-null    object\n",
      " 6   Wkts    776 non-null    object\n",
      " 7   BBI     776 non-null    object\n",
      " 8   Ave     776 non-null    object\n",
      " 9   Econ    776 non-null    object\n",
      " 10  SR      776 non-null    object\n",
      " 11  4       776 non-null    object\n",
      " 12  5       776 non-null    object\n",
      "dtypes: int64(1), object(12)\n",
      "memory usage: 84.9+ KB\n"
     ]
    }
   ],
   "source": [
    "bowling_df.info()"
   ]
  },
  {
   "cell_type": "code",
   "execution_count": 234,
   "metadata": {},
   "outputs": [
    {
     "data": {
      "text/plain": [
       "Index(['Player', 'Span', 'Mat', 'Inns', 'Balls', 'Runs', 'Wkts', 'BBI', 'Ave',\n",
       "       'Econ', 'SR', '4', '5'],\n",
       "      dtype='object')"
      ]
     },
     "execution_count": 234,
     "metadata": {},
     "output_type": "execute_result"
    }
   ],
   "source": [
    "bowling_df.columns"
   ]
  },
  {
   "cell_type": "code",
   "execution_count": 235,
   "metadata": {},
   "outputs": [],
   "source": [
    "# Convert Objects into bumerical values\n",
    "bowling_df['Inns']=bowling_df['Inns'].astype('int')\n",
    "bowling_df['Balls']=bowling_df['Balls'].astype('int')\n",
    "bowling_df['Runs']=bowling_df['Runs'].astype('int')\n",
    "bowling_df['Wkts']=bowling_df['Wkts'].astype('int')\n",
    "bowling_df['Ave']=bowling_df['Ave'].astype('float')\n",
    "bowling_df['Econ']=bowling_df['Econ'].astype('float')\n",
    "bowling_df['SR']=bowling_df['SR'].astype('float')\n",
    "bowling_df['4']=bowling_df['4'].astype('int')\n",
    "bowling_df['5']=bowling_df['5'].astype('int')\n"
   ]
  },
  {
   "cell_type": "code",
   "execution_count": 236,
   "metadata": {},
   "outputs": [
    {
     "data": {
      "text/html": [
       "<div>\n",
       "<style scoped>\n",
       "    .dataframe tbody tr th:only-of-type {\n",
       "        vertical-align: middle;\n",
       "    }\n",
       "\n",
       "    .dataframe tbody tr th {\n",
       "        vertical-align: top;\n",
       "    }\n",
       "\n",
       "    .dataframe thead th {\n",
       "        text-align: right;\n",
       "    }\n",
       "</style>\n",
       "<table border=\"1\" class=\"dataframe\">\n",
       "  <thead>\n",
       "    <tr style=\"text-align: right;\">\n",
       "      <th></th>\n",
       "      <th>Player</th>\n",
       "      <th>Span</th>\n",
       "      <th>Mat</th>\n",
       "      <th>Inns</th>\n",
       "      <th>Balls</th>\n",
       "      <th>Runs</th>\n",
       "      <th>Wkts</th>\n",
       "      <th>BBI</th>\n",
       "      <th>Ave</th>\n",
       "      <th>Econ</th>\n",
       "      <th>SR</th>\n",
       "      <th>4</th>\n",
       "      <th>5</th>\n",
       "    </tr>\n",
       "  </thead>\n",
       "  <tbody>\n",
       "    <tr>\n",
       "      <th>0</th>\n",
       "      <td>M Muralitharan (Asia/ICC/SL)</td>\n",
       "      <td>1993-2011</td>\n",
       "      <td>350</td>\n",
       "      <td>341</td>\n",
       "      <td>18811</td>\n",
       "      <td>12326</td>\n",
       "      <td>534</td>\n",
       "      <td>7/30</td>\n",
       "      <td>23.08</td>\n",
       "      <td>3.93</td>\n",
       "      <td>35.2</td>\n",
       "      <td>15</td>\n",
       "      <td>10</td>\n",
       "    </tr>\n",
       "    <tr>\n",
       "      <th>1</th>\n",
       "      <td>Wasim Akram (PAK)</td>\n",
       "      <td>1984-2003</td>\n",
       "      <td>356</td>\n",
       "      <td>351</td>\n",
       "      <td>18186</td>\n",
       "      <td>11812</td>\n",
       "      <td>502</td>\n",
       "      <td>5/15</td>\n",
       "      <td>23.52</td>\n",
       "      <td>3.89</td>\n",
       "      <td>36.2</td>\n",
       "      <td>17</td>\n",
       "      <td>6</td>\n",
       "    </tr>\n",
       "  </tbody>\n",
       "</table>\n",
       "</div>"
      ],
      "text/plain": [
       "                         Player       Span  Mat  Inns  Balls   Runs  Wkts  \\\n",
       "0  M Muralitharan (Asia/ICC/SL)  1993-2011  350   341  18811  12326   534   \n",
       "1             Wasim Akram (PAK)  1984-2003  356   351  18186  11812   502   \n",
       "\n",
       "    BBI    Ave  Econ    SR   4   5  \n",
       "0  7/30  23.08  3.93  35.2  15  10  \n",
       "1  5/15  23.52  3.89  36.2  17   6  "
      ]
     },
     "execution_count": 236,
     "metadata": {},
     "output_type": "execute_result"
    }
   ],
   "source": [
    "bowling_df.head(2)"
   ]
  },
  {
   "cell_type": "code",
   "execution_count": 237,
   "metadata": {},
   "outputs": [
    {
     "name": "stdout",
     "output_type": "stream",
     "text": [
      "<class 'pandas.core.frame.DataFrame'>\n",
      "Int64Index: 776 entries, 0 to 1592\n",
      "Data columns (total 13 columns):\n",
      " #   Column  Non-Null Count  Dtype  \n",
      "---  ------  --------------  -----  \n",
      " 0   Player  776 non-null    object \n",
      " 1   Span    776 non-null    object \n",
      " 2   Mat     776 non-null    int64  \n",
      " 3   Inns    776 non-null    int32  \n",
      " 4   Balls   776 non-null    int32  \n",
      " 5   Runs    776 non-null    int32  \n",
      " 6   Wkts    776 non-null    int32  \n",
      " 7   BBI     776 non-null    object \n",
      " 8   Ave     776 non-null    float64\n",
      " 9   Econ    776 non-null    float64\n",
      " 10  SR      776 non-null    float64\n",
      " 11  4       776 non-null    int32  \n",
      " 12  5       776 non-null    int32  \n",
      "dtypes: float64(3), int32(6), int64(1), object(3)\n",
      "memory usage: 66.7+ KB\n"
     ]
    }
   ],
   "source": [
    "bowling_df.info()"
   ]
  },
  {
   "cell_type": "code",
   "execution_count": 238,
   "metadata": {},
   "outputs": [],
   "source": [
    "# Adding nation,name for players to dataset\n",
    "country=[]\n",
    "name=[]\n",
    "for i in list(bowling_df[\"Player\"]):\n",
    "    x=i.split(\"(\")\n",
    "    country.append(x[1][:-1])\n",
    "    name.append(x[0])\n",
    "\n",
    "c=pd.DataFrame()\n",
    "c[\"nation\"]=country\n",
    "\n",
    "c['nation']=c['nation'].str.replace(\"Asia\",\"\")\n",
    "c['nation']=c['nation'].str.replace(\"/\",\"\")\n",
    "c['nation']=c['nation'].str.replace(\"ICC\",\"\")\n",
    "\n",
    "# adding nation column to dataset\n",
    "bowling_df['Nation']=c['nation']\n",
    "bowling_df[\"Player\"]=name\n",
    "\n",
    "bowling_df.dropna(inplace=True)"
   ]
  },
  {
   "cell_type": "code",
   "execution_count": 239,
   "metadata": {},
   "outputs": [],
   "source": [
    "# Save file\n",
    "# bowling_df.to_csv(\"new_bowling.csv\",index=False)"
   ]
  },
  {
   "cell_type": "code",
   "execution_count": null,
   "metadata": {},
   "outputs": [],
   "source": []
  },
  {
   "cell_type": "markdown",
   "metadata": {},
   "source": [
    "# ANALYSIS"
   ]
  },
  {
   "cell_type": "code",
   "execution_count": 240,
   "metadata": {},
   "outputs": [],
   "source": [
    "df=pd.read_csv(\"new_bowling.csv\")"
   ]
  },
  {
   "cell_type": "code",
   "execution_count": 243,
   "metadata": {},
   "outputs": [
    {
     "data": {
      "text/plain": [
       "0      35.2\n",
       "1      36.2\n",
       "2      30.5\n",
       "3      39.4\n",
       "4      44.7\n",
       "       ... \n",
       "611    61.5\n",
       "612    46.0\n",
       "613    58.5\n",
       "614    42.4\n",
       "615    63.7\n",
       "Name: SR, Length: 616, dtype: float64"
      ]
     },
     "execution_count": 243,
     "metadata": {},
     "output_type": "execute_result"
    }
   ],
   "source": [
    "df['SR']"
   ]
  },
  {
   "cell_type": "code",
   "execution_count": 251,
   "metadata": {},
   "outputs": [],
   "source": [
    "player=list(df['Player'])"
   ]
  },
  {
   "cell_type": "code",
   "execution_count": 291,
   "metadata": {},
   "outputs": [
    {
     "data": {
      "text/plain": [
       "Index(['Player', 'Span', 'Mat', 'Inns', 'Balls', 'Runs', 'Wkts', 'BBI', 'Ave',\n",
       "       'Econ', 'SR', '4', '5', 'Nation'],\n",
       "      dtype='object')"
      ]
     },
     "execution_count": 291,
     "metadata": {},
     "output_type": "execute_result"
    }
   ],
   "source": [
    "df.columns"
   ]
  },
  {
   "cell_type": "code",
   "execution_count": 338,
   "metadata": {},
   "outputs": [],
   "source": [
    "# Fetch Player Stats\n",
    "def player_stats_bowling(name):\n",
    "    x=df[df['Player']==name]\n",
    "    Span=x['Span'].values[0]\n",
    "    Matches=x['Mat'].values[0]\n",
    "    Innings=x['Inns'].values[0]\n",
    "    Balls=x['Balls'].values[0]\n",
    "    Runs=x['Runs'].values[0]\n",
    "    Wickets=x['Wkts'].values[0]\n",
    "    BBI=x['BBI'].values[0]\n",
    "    Average=x['Ave'].values[0]\n",
    "    Economy=x['Econ'].values[0]\n",
    "    Strike_Rate=x['SR'].values[0]\n",
    "    Fours=x['4'].values[0]\n",
    "    Fives=x['5'].values[0]\n",
    "    Nation=x['Nation'].values[0]\n",
    "    return Span,Matches,Innings,Balls,Runs,Wickets,BBI,Average,Economy,Strike_Rate,Fours,Fives,Nation"
   ]
  },
  {
   "cell_type": "code",
   "execution_count": 339,
   "metadata": {},
   "outputs": [
    {
     "data": {
      "text/plain": [
       "('1993-2011',\n",
       " 350,\n",
       " 341,\n",
       " 18811,\n",
       " 12326,\n",
       " 534,\n",
       " '7/30',\n",
       " 23.08,\n",
       " 3.93,\n",
       " 35.2,\n",
       " 15,\n",
       " 10,\n",
       " 'SL')"
      ]
     },
     "execution_count": 339,
     "metadata": {},
     "output_type": "execute_result"
    }
   ],
   "source": [
    "player_stats_bowling(\"M Muralitharan \")"
   ]
  },
  {
   "cell_type": "code",
   "execution_count": 333,
   "metadata": {},
   "outputs": [
    {
     "data": {
      "text/plain": [
       "10"
      ]
     },
     "execution_count": 333,
     "metadata": {},
     "output_type": "execute_result"
    }
   ],
   "source": [
    "x"
   ]
  },
  {
   "cell_type": "code",
   "execution_count": null,
   "metadata": {},
   "outputs": [],
   "source": []
  }
 ],
 "metadata": {
  "kernelspec": {
   "display_name": "Python 3",
   "language": "python",
   "name": "python3"
  },
  "language_info": {
   "codemirror_mode": {
    "name": "ipython",
    "version": 3
   },
   "file_extension": ".py",
   "mimetype": "text/x-python",
   "name": "python",
   "nbconvert_exporter": "python",
   "pygments_lexer": "ipython3",
   "version": "3.8.5"
  }
 },
 "nbformat": 4,
 "nbformat_minor": 4
}
